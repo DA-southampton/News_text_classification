{
 "cells": [
  {
   "cell_type": "code",
   "execution_count": 1,
   "metadata": {},
   "outputs": [],
   "source": [
    "import numpy as np\n",
    "import pandas as pd\n",
    "from sklearn.model_selection import KFold\n",
    "from sklearn.feature_extraction.text import TfidfVectorizer\n",
    "from sklearn.svm import LinearSVC\n",
    "from sklearn.metrics import f1_score"
   ]
  },
  {
   "cell_type": "code",
   "execution_count": 2,
   "metadata": {},
   "outputs": [],
   "source": [
    "train_df = pd.read_csv('../data/train_set.csv', sep='\\t')\n",
    "test_df = pd.read_csv('../data/test_a.csv', sep='\\t')"
   ]
  },
  {
   "cell_type": "code",
   "execution_count": 3,
   "metadata": {},
   "outputs": [
    {
     "name": "stdout",
     "output_type": "stream",
     "text": [
      "Wall time: 19min 53s\n"
     ]
    }
   ],
   "source": [
    "%%time\n",
    "tfidf = TfidfVectorizer(\n",
    "    sublinear_tf=True,\n",
    "    strip_accents='unicode',\n",
    "    analyzer='word',\n",
    "    token_pattern=r'\\w{1,}',\n",
    "    stop_words='english',\n",
    "    ngram_range=(1,3),\n",
    "    max_features=10000)\n",
    "\n",
    "tfidf.fit(pd.concat([train_df['text'], test_df['text']]))\n",
    "train_word_features = tfidf.transform(train_df['text'])\n",
    "test_word_features = tfidf.transform(test_df['text'])"
   ]
  },
  {
   "cell_type": "code",
   "execution_count": 4,
   "metadata": {},
   "outputs": [],
   "source": [
    "X_train = train_word_features\n",
    "y_train = train_df['label']\n",
    "X_test = test_word_features"
   ]
  },
  {
   "cell_type": "code",
   "execution_count": 30,
   "metadata": {},
   "outputs": [
    {
     "name": "stdout",
     "output_type": "stream",
     "text": [
      "第 1 折交叉验证开始...\n",
      "LinearSVC准确率为： 0.9387828343529744\n",
      "第 2 折交叉验证开始...\n",
      "LinearSVC准确率为： 0.935905962059219\n",
      "第 3 折交叉验证开始...\n",
      "LinearSVC准确率为： 0.9437648412043526\n",
      "第 4 折交叉验证开始...\n",
      "LinearSVC准确率为： 0.9416286387242435\n",
      "第 5 折交叉验证开始...\n",
      "LinearSVC准确率为： 0.9391949963348126\n",
      "第 6 折交叉验证开始...\n",
      "LinearSVC准确率为： 0.9366023492800833\n",
      "第 7 折交叉验证开始...\n",
      "LinearSVC准确率为： 0.9406770075236407\n",
      "第 8 折交叉验证开始...\n",
      "LinearSVC准确率为： 0.935780601199901\n",
      "第 9 折交叉验证开始...\n",
      "LinearSVC准确率为： 0.9429779405504484\n",
      "第 10 折交叉验证开始...\n",
      "LinearSVC准确率为： 0.9429735075282978\n"
     ]
    }
   ],
   "source": [
    "# https://scikit-learn.org/stable/modules/generated/sklearn.model_selection.KFold.html#sklearn.model_selection.KFold\n",
    "KF = KFold(n_splits=10, random_state=7)\n",
    "clf = LinearSVC()\n",
    "test_pred = np.zeros((X_test.shape[0], 1), int)  # 存储测试集预测结果 行数：len(X_test) ,列数：1列\n",
    "for KF_index, (train_index,valid_index) in enumerate(KF.split(X_train)):\n",
    "    print('第', KF_index+1, '折交叉验证开始...')\n",
    "    # 训练集划分\n",
    "    x_train_, x_valid_ = X_train[train_index], X_train[valid_index]\n",
    "    y_train_, y_valid_ = y_train[train_index], y_train[valid_index]\n",
    "    # 模型构建\n",
    "    clf.fit(x_train_, y_train_)\n",
    "    # 模型预测\n",
    "    val_pred = clf.predict(x_valid_)\n",
    "    print(\"LinearSVC准确率为：\",f1_score(y_valid_, val_pred, average='macro'))\n",
    "    # 保存测试集预测结果\n",
    "    test_pred = np.column_stack((test_pred, clf.predict(X_test)))  # 将矩阵按列合并\n",
    "# 取测试集中预测数量最多的数\n",
    "preds = []\n",
    "for i, test_list in enumerate(test_pred):\n",
    "    preds.append(np.argmax(np.bincount(test_list)))\n",
    "preds = np.array(preds)"
   ]
  },
  {
   "cell_type": "code",
   "execution_count": 32,
   "metadata": {},
   "outputs": [],
   "source": [
    "submission = pd.read_csv('../data/test_a_sample_submit.csv')\n",
    "submission['label'] = preds\n",
    "submission.to_csv('../output/LinearSVC_submission2.csv', index=False)"
   ]
  },
  {
   "cell_type": "markdown",
   "metadata": {},
   "source": [
    "https://eli5.readthedocs.io/en/latest/tutorials/black-box-text-classifiers.html"
   ]
  },
  {
   "cell_type": "code",
   "execution_count": null,
   "metadata": {},
   "outputs": [],
   "source": []
  }
 ],
 "metadata": {
  "kernelspec": {
   "display_name": "Python 3",
   "language": "python",
   "name": "python3"
  },
  "language_info": {
   "codemirror_mode": {
    "name": "ipython",
    "version": 3
   },
   "file_extension": ".py",
   "mimetype": "text/x-python",
   "name": "python",
   "nbconvert_exporter": "python",
   "pygments_lexer": "ipython3",
   "version": "3.7.7"
  }
 },
 "nbformat": 4,
 "nbformat_minor": 4
}
