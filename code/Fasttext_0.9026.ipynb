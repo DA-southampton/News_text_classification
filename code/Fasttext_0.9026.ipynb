{
 "cells": [
  {
   "cell_type": "markdown",
   "metadata": {},
   "source": [
    "FastText在文本分类任务上是优于TF-IDF的：  \n",
    "\n",
    "- FastText用单词的Embedding叠加获得的文档向量，将相似的句子分为一类\n",
    "- FastText学习到的Embedding空间维度比较低，可以快速进行训练"
   ]
  },
  {
   "cell_type": "code",
   "execution_count": 1,
   "metadata": {},
   "outputs": [],
   "source": [
    "import numpy as np\n",
    "import pandas as pd\n",
    "import fasttext\n",
    "from sklearn.model_selection import KFold\n",
    "from sklearn.metrics import f1_score"
   ]
  },
  {
   "cell_type": "code",
   "execution_count": 2,
   "metadata": {},
   "outputs": [],
   "source": [
    "train_df = pd.read_csv('../data/train_set.csv', sep='\\t', nrows=None)\n",
    "test_df = pd.read_csv('../data/test_a.csv', sep='\\t')"
   ]
  },
  {
   "cell_type": "code",
   "execution_count": 3,
   "metadata": {},
   "outputs": [],
   "source": [
    "# 转换为FastText需要的格式\n",
    "train_df['label_ft'] = '__label__' + train_df['label'].astype(str)"
   ]
  },
  {
   "cell_type": "code",
   "execution_count": null,
   "metadata": {},
   "outputs": [],
   "source": [
    "# 各个类别性能度量的函数\n",
    "def category_performance_measure(labels_right, labels_pred):\n",
    "    text_labels = list(set(labels_right))\n",
    "    text_pred_labels = list(set(labels_pred))\n",
    "    \n",
    "    TP = dict.fromkeys(text_labels,0)  #预测正确的各个类的数目\n",
    "    TP_FP = dict.fromkeys(text_labels,0)   #测试数据集中各个类的数目\n",
    "    TP_FN = dict.fromkeys(text_labels,0) #预测结果中各个类的数目\n",
    "    \n",
    "    # 计算TP等数量\n",
    "    for i in range(0,len(labels_right)):\n",
    "        TP_FP[labels_right[i]] += 1\n",
    "        TP_FN[labels_pred[i]] += 1\n",
    "        if labels_right[i] == labels_pred[i]:\n",
    "            TP[labels_right[i]] += 1\n",
    "    #计算准确率P，召回率R，F1值\n",
    "    for key in TP_FP:\n",
    "        P = float(TP[key]) / float(TP_FP[key] + 1)\n",
    "        R = float(TP[key]) / float(TP_FN[key] + 1)\n",
    "        F1 = P * R * 2 / (P + R) if (P + R) != 0 else 0\n",
    "        print(\"%s:\\t P:%f\\t R:%f\\t F1:%f\" % (key,P,R,F1))"
   ]
  },
  {
   "cell_type": "code",
   "execution_count": 4,
   "metadata": {},
   "outputs": [
    {
     "name": "stdout",
     "output_type": "stream",
     "text": [
      "第 1 折交叉验证开始...\n",
      "Fasttext准确率为： 0.9061929348999312\n",
      "第 2 折交叉验证开始...\n",
      "Fasttext准确率为： 0.9009486405564304\n",
      "第 3 折交叉验证开始...\n",
      "Fasttext准确率为： 0.8979898127663538\n",
      "第 4 折交叉验证开始...\n",
      "Fasttext准确率为： 0.8971513954243171\n",
      "第 5 折交叉验证开始...\n",
      "Fasttext准确率为： 0.9017859486016404\n"
     ]
    }
   ],
   "source": [
    "X_train = train_df['text']\n",
    "y_train = train_df['label']\n",
    "X_test = test_df['text']\n",
    "KF = KFold(n_splits=5, random_state=7, shuffle=True)\n",
    "test_pred = np.zeros((X_test.shape[0], 1), int)  # 存储测试集预测结果 行数：len(X_test) ,列数：1列\n",
    "for KF_index, (train_index,valid_index) in enumerate(KF.split(X_train)):\n",
    "    print('第', KF_index+1, '折交叉验证开始...')\n",
    "    train_df[['text','label_ft']].iloc[train_index].to_csv('train_df.csv', header=None, index=False, sep='\\t')\n",
    "    # 模型构建\n",
    "    model = fasttext.train_supervised('train_df.csv', lr=0.1, epoch=27, wordNgrams=5, \n",
    "                                      verbose=2, minCount=1, loss='hs')\n",
    "    # 模型预测\n",
    "    val_pred = [int(model.predict(x)[0][0].split('__')[-1]) for x in X_train.iloc[valid_index]]\n",
    "    print('Fasttext准确率为：',f1_score(list(y_train.iloc[valid_index]), val_pred, average='macro'))\n",
    "    category_performance_measure(list(y_train.iloc[valid_index]), val_pred)\n",
    "    \n",
    "    # 保存测试集预测结果\n",
    "    test_pred_ = [int(model.predict(x)[0][0].split('__')[-1]) for x in X_test]\n",
    "    test_pred = np.column_stack((test_pred, test_pred_))  # 将矩阵按列合并\n",
    "# 取测试集中预测数量最多的数\n",
    "preds = []\n",
    "for i, test_list in enumerate(test_pred):\n",
    "    preds.append(np.argmax(np.bincount(test_list)))\n",
    "preds = np.array(preds)    "
   ]
  },
  {
   "cell_type": "code",
   "execution_count": 5,
   "metadata": {},
   "outputs": [],
   "source": [
    "submission = pd.read_csv('../data/test_a_sample_submit.csv')\n",
    "submission['label'] = preds\n",
    "submission.to_csv('../output/Fasttext_submission.csv', index=False)"
   ]
  },
  {
   "cell_type": "code",
   "execution_count": null,
   "metadata": {},
   "outputs": [],
   "source": []
  }
 ],
 "metadata": {
  "kernelspec": {
   "display_name": "Python 3",
   "language": "python",
   "name": "python3"
  },
  "language_info": {
   "codemirror_mode": {
    "name": "ipython",
    "version": 3
   },
   "file_extension": ".py",
   "mimetype": "text/x-python",
   "name": "python",
   "nbconvert_exporter": "python",
   "pygments_lexer": "ipython3",
   "version": "3.7.7"
  }
 },
 "nbformat": 4,
 "nbformat_minor": 4
}
